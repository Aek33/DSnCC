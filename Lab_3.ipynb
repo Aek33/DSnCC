{
 "cells": [
  {
   "cell_type": "markdown",
   "metadata": {
    "collapsed": true,
    "pycharm": {
     "name": "#%% md\n"
    }
   },
   "source": [
    "### **Лабораторная работа №3**\n",
    "#### *Выполнил: студент группы 8ПМ11, Кайдаров Алибек*\n",
    "\n",
    "Вариант 4.\n",
    "\n",
    "- Получить\n",
    "    - двадцать пользователей с наибольшим количеством фолловеров;\n",
    "    - двадцать пользователей с наибольшим количеством друзей;\n",
    "    - двадцать наиболее часто упоминаемых пользователей.\n",
    "- Определите топ-5 уникальных хештегов для каждой из выделенных групп.\n",
    "- Выделить пользователей\n",
    "    - которые попадают в несколько из этих списков,\n",
    "    - которые попали только в один список."
   ]
  },
  {
   "cell_type": "markdown",
   "source": [
    "Загрузка библиотек и создание новой сессии Spark"
   ],
   "metadata": {
    "collapsed": false
   }
  },
  {
   "cell_type": "code",
   "source": [
    "from time import time\n",
    "time_start = time()"
   ],
   "metadata": {
    "collapsed": false,
    "pycharm": {
     "name": "#%%\n"
    }
   },
   "execution_count": 1,
   "outputs": []
  },
  {
   "cell_type": "code",
   "execution_count": 2,
   "metadata": {
    "pycharm": {
     "name": "#%%\n"
    }
   },
   "outputs": [],
   "source": [
    "from pyspark.sql import SparkSession\n",
    "from pyspark.sql.functions import col, max, split, explode, lower"
   ]
  },
  {
   "cell_type": "code",
   "execution_count": 3,
   "metadata": {
    "pycharm": {
     "name": "#%%\n"
    }
   },
   "outputs": [],
   "source": [
    "spark = SparkSession.builder.appName(\"Lab_3\").master(\"local[4]\").getOrCreate()\n",
    "spark.conf.set(\"spark.sql.repl.eagerEval.enabled\", True)"
   ]
  },
  {
   "cell_type": "markdown",
   "source": [
    "Создание нового датафрейма на основе датасета *FIFA.csv* и его анализ"
   ],
   "metadata": {
    "collapsed": false
   }
  },
  {
   "cell_type": "code",
   "execution_count": 4,
   "metadata": {
    "pycharm": {
     "name": "#%%\n"
    }
   },
   "outputs": [],
   "source": [
    "dataFrame = spark.read.csv(\"D:\\Spring_2022\\DSandCC\\\\FIFA.csv\", inferSchema=True, header=True, multiLine=True, quote='\\\"', escape='\\\"')"
   ]
  },
  {
   "cell_type": "code",
   "execution_count": 5,
   "metadata": {
    "pycharm": {
     "name": "#%%\n"
    }
   },
   "outputs": [
    {
     "data": {
      "text/plain": "+-------------------+----+-------------------+-------------------+---+--------------------+--------------------+-----+----+--------------------+--------------------+--------------------+--------------+----------------+---------+-------+\n|                 ID|lang|               Date|             Source|len|          Orig_Tweet|               Tweet|Likes| RTs|            Hashtags|    UserMentionNames|       UserMentionID|          Name|           Place|Followers|Friends|\n+-------------------+----+-------------------+-------------------+---+--------------------+--------------------+-----+----+--------------------+--------------------+--------------------+--------------+----------------+---------+-------+\n|1013597060640145408|  en|2018-07-02 01:35:45|Twitter for Android|140|RT @Squawka: Only...|Only two goalkeep...|    0| 477|    WorldCup,POR,ENG|    Squawka Football|             Squawka|        Cayleb|           Accra|      861|    828|\n|1013597056219295744|  en|2018-07-02 01:35:44|Twitter for Android|139|RT @FCBarcelona: ...|scores the winnin...|    0|1031|            WorldCup|FC Barcelona,Ivan...|FCBarcelona,ivanr...|  Febri Aditya|           Bogor|      667|    686|\n|1013597047482544130|  en|2018-07-02 01:35:42|Twitter for Android|107|RT @javierfernand...|Tonight we have b...|    0| 488|            worldcup|Javier Fernandez,...|javierfernandez,E...|            ??|            null|       65|     67|\n|1013597044198391808|  en|2018-07-02 01:35:41| Twitter Web Client|142|We get stronger\nT...|We get stronger T...|    0|   0|PowerByEXO,WorldC...|EXO,FIFA World Cup ?|weareoneEXO,FIFAW...|Frida Carrillo|Zapopan, Jalisco|       17|     89|\n|1013597039999926272|  en|2018-07-02 01:35:40|Twitter for Android|140|RT @Squawka: Only...|Only two goalkeep...|    0| 477|    WorldCup,POR,ENG|    Squawka Football|             Squawka|           tar|            null|      137|    216|\n+-------------------+----+-------------------+-------------------+---+--------------------+--------------------+-----+----+--------------------+--------------------+--------------------+--------------+----------------+---------+-------+",
      "text/html": "<table border='1'>\n<tr><th>ID</th><th>lang</th><th>Date</th><th>Source</th><th>len</th><th>Orig_Tweet</th><th>Tweet</th><th>Likes</th><th>RTs</th><th>Hashtags</th><th>UserMentionNames</th><th>UserMentionID</th><th>Name</th><th>Place</th><th>Followers</th><th>Friends</th></tr>\n<tr><td>1013597060640145408</td><td>en</td><td>2018-07-02 01:35:45</td><td>Twitter for Android</td><td>140</td><td>RT @Squawka: Only...</td><td>Only two goalkeep...</td><td>0</td><td>477</td><td>WorldCup,POR,ENG</td><td>Squawka Football</td><td>Squawka</td><td>Cayleb</td><td>Accra</td><td>861</td><td>828</td></tr>\n<tr><td>1013597056219295744</td><td>en</td><td>2018-07-02 01:35:44</td><td>Twitter for Android</td><td>139</td><td>RT @FCBarcelona: ...</td><td>scores the winnin...</td><td>0</td><td>1031</td><td>WorldCup</td><td>FC Barcelona,Ivan...</td><td>FCBarcelona,ivanr...</td><td>Febri Aditya</td><td>Bogor</td><td>667</td><td>686</td></tr>\n<tr><td>1013597047482544130</td><td>en</td><td>2018-07-02 01:35:42</td><td>Twitter for Android</td><td>107</td><td>RT @javierfernand...</td><td>Tonight we have b...</td><td>0</td><td>488</td><td>worldcup</td><td>Javier Fernandez,...</td><td>javierfernandez,E...</td><td>??</td><td>null</td><td>65</td><td>67</td></tr>\n<tr><td>1013597044198391808</td><td>en</td><td>2018-07-02 01:35:41</td><td>Twitter Web Client</td><td>142</td><td>We get stronger\nT...</td><td>We get stronger T...</td><td>0</td><td>0</td><td>PowerByEXO,WorldC...</td><td>EXO,FIFA World Cup ?</td><td>weareoneEXO,FIFAW...</td><td>Frida Carrillo</td><td>Zapopan, Jalisco</td><td>17</td><td>89</td></tr>\n<tr><td>1013597039999926272</td><td>en</td><td>2018-07-02 01:35:40</td><td>Twitter for Android</td><td>140</td><td>RT @Squawka: Only...</td><td>Only two goalkeep...</td><td>0</td><td>477</td><td>WorldCup,POR,ENG</td><td>Squawka Football</td><td>Squawka</td><td>tar</td><td>null</td><td>137</td><td>216</td></tr>\n</table>\n"
     },
     "execution_count": 5,
     "metadata": {},
     "output_type": "execute_result"
    }
   ],
   "source": [
    "dataFrame.limit(5)"
   ]
  },
  {
   "cell_type": "code",
   "execution_count": 6,
   "metadata": {
    "pycharm": {
     "name": "#%%\n"
    }
   },
   "outputs": [
    {
     "name": "stdout",
     "output_type": "stream",
     "text": [
      "root\n",
      " |-- ID: long (nullable = true)\n",
      " |-- lang: string (nullable = true)\n",
      " |-- Date: string (nullable = true)\n",
      " |-- Source: string (nullable = true)\n",
      " |-- len: integer (nullable = true)\n",
      " |-- Orig_Tweet: string (nullable = true)\n",
      " |-- Tweet: string (nullable = true)\n",
      " |-- Likes: integer (nullable = true)\n",
      " |-- RTs: integer (nullable = true)\n",
      " |-- Hashtags: string (nullable = true)\n",
      " |-- UserMentionNames: string (nullable = true)\n",
      " |-- UserMentionID: string (nullable = true)\n",
      " |-- Name: string (nullable = true)\n",
      " |-- Place: string (nullable = true)\n",
      " |-- Followers: integer (nullable = true)\n",
      " |-- Friends: integer (nullable = true)\n",
      "\n"
     ]
    }
   ],
   "source": [
    "dataFrame.printSchema()"
   ]
  },
  {
   "cell_type": "code",
   "execution_count": 7,
   "outputs": [
    {
     "data": {
      "text/plain": "(530000, 16)"
     },
     "execution_count": 7,
     "metadata": {},
     "output_type": "execute_result"
    }
   ],
   "source": [
    "dataFrame.count(), len(dataFrame.columns), "
   ],
   "metadata": {
    "collapsed": false,
    "pycharm": {
     "name": "#%%\n"
    }
   }
  },
  {
   "cell_type": "markdown",
   "source": [
    "Датасет содержит переменные различных типов, уникальным идентефикатором является переменная *ID*, также есть отсутсвующие данныею.\n",
    "Описание переменных:\n",
    "\"Lang\" - язык твита;\n",
    "\"Date\" - когда это было написано в твиттере;\n",
    "\"Source\" - устройство/носитель, с которого был сделан твит;\n",
    "\"len\" - длина твита;\n",
    "\"Orig_Tweet\" - твит в исходном виде;\n",
    "\"Tweet\" - обновленный твит после предварительной обработки;\n",
    "\"Likes\" - количество лайков, полученных твитом (до момента извлечения);\n",
    "\"RTs\" - количество раз, когда твитом поделились;\n",
    "\"Hashtags\" - хэштеги, найденные в исходном твите;\n",
    "\"UserMentionNames\" и \"UserMentionID\" - упоминаемые пользователи и их\n",
    " имена извлеченные из исходного твита;\n",
    "\"Name\" и \"Place\" - имя и местоположение пользователя;\n",
    "\"Followers\" - количество подписчиков, которое есть у учетной записи\n",
    "пользователя;\n",
    "\"Friends\" - количество друзей у учетной записи пользователя."
   ],
   "metadata": {
    "collapsed": false,
    "pycharm": {
     "name": "#%% md\n"
    }
   }
  },
  {
   "cell_type": "markdown",
   "source": [
    "Для дальнейшего анализа проведена выборка необходимых для задания переменных."
   ],
   "metadata": {
    "collapsed": false,
    "pycharm": {
     "name": "#%% md\n"
    }
   }
  },
  {
   "cell_type": "code",
   "execution_count": 8,
   "outputs": [],
   "source": [
    "dataFrame = dataFrame.select([\"Hashtags\", \"UserMentionNames\", \"Name\", \"Followers\", \"Friends\"])"
   ],
   "metadata": {
    "collapsed": false,
    "pycharm": {
     "name": "#%%\n"
    }
   }
  },
  {
   "cell_type": "markdown",
   "source": [
    "Некоторые значения датафрейма содержат также имена, состоящие только из вопросительных знаков, не позволяющие с\n",
    "достаточной достоверностью определить имя пользователя"
   ],
   "metadata": {
    "collapsed": false
   }
  },
  {
   "cell_type": "code",
   "execution_count": 9,
   "outputs": [
    {
     "name": "stdout",
     "output_type": "stream",
     "text": [
      "В процессе подготовки данных удалено 22923 записей\n"
     ]
    }
   ],
   "source": [
    "count_before = dataFrame.count()\n",
    "dataFrame = dataFrame.filter(col(\"Name\").rlike(\"[a-zA-Z0-9_ ]\"))\n",
    "count_after = dataFrame.count()\n",
    "total_missed = count_before - count_after\n",
    "print(f\"В процессе подготовки данных удалено {total_missed} записей\")"
   ],
   "metadata": {
    "collapsed": false,
    "pycharm": {
     "name": "#%%\n"
    }
   }
  },
  {
   "cell_type": "markdown",
   "source": [
    "Выборка пользователей с наибольшим количеством фолловеров\n",
    "Для получения всех твитов от пользователей из выборки проведена операция объединения\n",
    "датафреймов *dataFrame* и *top_by_followers*"
   ],
   "metadata": {
    "collapsed": false
   }
  },
  {
   "cell_type": "code",
   "execution_count": 10,
   "outputs": [
    {
     "name": "stdout",
     "output_type": "stream",
     "text": [
      "+--------------------+\n",
      "|                Name|\n",
      "+--------------------+\n",
      "|                 CNN|\n",
      "|                ESPN|\n",
      "|        FC Barcelona|\n",
      "|    BBC News (World)|\n",
      "|       The Economist|\n",
      "|    Reuters Top News|\n",
      "|   Manchester United|\n",
      "|      Premier League|\n",
      "|            Fox News|\n",
      "|The Wall Street J...|\n",
      "|      Twitter Sports|\n",
      "|                9GAG|\n",
      "|      Vogue Magazine|\n",
      "|                Xbox|\n",
      "|The Associated Press|\n",
      "|            FIFA.com|\n",
      "|          Chelsea FC|\n",
      "|   China Xinhua News|\n",
      "|      Times of India|\n",
      "|                NDTV|\n",
      "+--------------------+\n",
      "\n"
     ]
    }
   ],
   "source": [
    "top_by_followers = dataFrame.select([\"Name\", \"Followers\"]).groupBy([\"Name\"])\\\n",
    "    .agg(max(col(\"Followers\")).alias(\"Max_followers\")).sort(\"Max_followers\", ascending=False).limit(20)\n",
    "top_by_followers = top_by_followers.select(\"Name\")\n",
    "top_by_followers.show()"
   ],
   "metadata": {
    "collapsed": false,
    "pycharm": {
     "name": "#%%\n"
    }
   }
  },
  {
   "cell_type": "markdown",
   "source": [
    "Выборка пользователей с наибольшим количеством друзей\n",
    "Для получения всех твитов от пользователей из выборки проведена операция объединения\n",
    "датафреймов *dataFrame* и *top_by_friends*"
   ],
   "metadata": {
    "collapsed": false,
    "pycharm": {
     "name": "#%% md\n"
    }
   }
  },
  {
   "cell_type": "code",
   "execution_count": 11,
   "outputs": [
    {
     "name": "stdout",
     "output_type": "stream",
     "text": [
      "+--------------------+\n",
      "|                Name|\n",
      "+--------------------+\n",
      "|                J.D.|\n",
      "|Footbal, News, Sp...|\n",
      "|          Tom Hall ?|\n",
      "|    Michael G Harbut|\n",
      "|                E.O.|\n",
      "|              SKYLAR|\n",
      "|Consumers Federat...|\n",
      "|        Liverpool FC|\n",
      "|Real Marsha Wrigh...|\n",
      "|        Adamu hassan|\n",
      "|   ?? #PowerWoman ??|\n",
      "|     ? Yübbî? Umoh ?|\n",
      "|         Köksal Ak?n|\n",
      "|         Ben william|\n",
      "|                 sam|\n",
      "|   Raphael M. Ny?ng?|\n",
      "|Zlatan Khubaibimovi?|\n",
      "|      Tunde Eleniyan|\n",
      "|     Buffy, Chun-Lit|\n",
      "|              Futbol|\n",
      "+--------------------+\n",
      "\n"
     ]
    }
   ],
   "source": [
    "top_by_friends = dataFrame.select([\"Name\", \"Friends\"]).groupBy([\"Name\"])\\\n",
    "    .agg(max(col(\"Friends\")).alias(\"Max_friends\")).sort(\"Max_friends\", ascending=False).limit(20)\n",
    "top_by_friends = top_by_friends.select(\"Name\")\n",
    "top_by_friends.show()"
   ],
   "metadata": {
    "collapsed": false,
    "pycharm": {
     "name": "#%%\n"
    }
   }
  },
  {
   "cell_type": "markdown",
   "source": [
    "Выборка пользователей с наибольшим количеством друзей\n",
    "Для получения всех твитов от пользователей из выборки проведена операция\n",
    "объединения датафреймов dataFrame и top_by_mention"
   ],
   "metadata": {
    "collapsed": false
   }
  },
  {
   "cell_type": "code",
   "execution_count": 12,
   "outputs": [
    {
     "name": "stdout",
     "output_type": "stream",
     "text": [
      "+------------------+\n",
      "|              Name|\n",
      "+------------------+\n",
      "|  FIFA World Cup ?|\n",
      "|    FIFA World Cup|\n",
      "|    Khaled Beydoun|\n",
      "|               EXO|\n",
      "|         HNS | CFF|\n",
      "|        Paul Pogba|\n",
      "|  Match of the Day|\n",
      "| Manchester United|\n",
      "|        Harry Kane|\n",
      "|      B/R Football|\n",
      "|       Luka Modri?|\n",
      "|           England|\n",
      "|    Premier League|\n",
      "|              9GAG|\n",
      "|       French Team|\n",
      "|             SPORF|\n",
      "|   Bleacher Report|\n",
      "|           OptaJoe|\n",
      "|Belgian Red Devils|\n",
      "|    Troll Football|\n",
      "+------------------+\n",
      "\n"
     ]
    }
   ],
   "source": [
    "top_by_mention = dataFrame.select(split(col(\"UserMentionNames\"), \",\").alias(\"UserMentionNames\"))\n",
    "top_by_mention = top_by_mention.withColumn(\"UserMentionNames\", explode(\"UserMentionNames\").alias(\"key\", \"value\"))\n",
    "top_by_mention = top_by_mention.filter(col(\"UserMentionNames\").rlike(\"[a-zA-Z0-9_ ]\"))\n",
    "top_by_mention = top_by_mention.select(\"UserMentionNames\")\\\n",
    "    .groupBy(\"UserMentionNames\").count().sort(\"count\", ascending=False).limit(20)\n",
    "top_by_mention = top_by_mention.select(col(\"UserMentionNames\").alias(\"Name\"))\n",
    "top_by_mention.show()"
   ],
   "metadata": {
    "collapsed": false,
    "pycharm": {
     "name": "#%%\n"
    }
   }
  },
  {
   "cell_type": "markdown",
   "source": [
    "Таким образом получено 3 датафрейма содержащих группы из 20 пользователей и 3 датфрейма\n",
    "содержащих выборку по именам пользователей соответствующей категории."
   ],
   "metadata": {
    "collapsed": false,
    "pycharm": {
     "name": "#%% md\n"
    }
   }
  },
  {
   "cell_type": "markdown",
   "source": [
    "Для определения 5 наиболее часто встречающихся хэштегов для каждой категории записана функция *top_hashtags()*.\n",
    "Функция применена к ранее полученным датафреймам."
   ],
   "metadata": {
    "collapsed": false,
    "pycharm": {
     "name": "#%% md\n"
    }
   }
  },
  {
   "cell_type": "code",
   "execution_count": 13,
   "outputs": [],
   "source": [
    "def top_hashtags(df):\n",
    "    temp_frame = dataFrame.join(df, \"Name\", \"right\")\n",
    "    temp_frame = temp_frame.withColumn(\"Hashtags\", lower(col(\"Hashtags\")).alias(\"Hashtags\"))\n",
    "    temp_frame = temp_frame.select(split(col(\"Hashtags\"), \",\").alias(\"Hashtags\"))\n",
    "    temp_frame = temp_frame.withColumn(\"Hashtags\", explode(\"Hashtags\").alias(\"key\", \"value\"))\n",
    "    temp_frame = temp_frame.select(\"Hashtags\").groupBy(\"Hashtags\").count()\\\n",
    "        .sort(\"count\", ascending=False).limit(5)\n",
    "    temp_frame = temp_frame.select(\"Hashtags\")\n",
    "    return temp_frame"
   ],
   "metadata": {
    "collapsed": false,
    "pycharm": {
     "name": "#%%\n"
    }
   }
  },
  {
   "cell_type": "code",
   "execution_count": 14,
   "outputs": [
    {
     "name": "stdout",
     "output_type": "stream",
     "text": [
      "+--------+\n",
      "|Hashtags|\n",
      "+--------+\n",
      "|worldcup|\n",
      "|     fra|\n",
      "|     den|\n",
      "|     cro|\n",
      "|  frabel|\n",
      "+--------+\n",
      "\n"
     ]
    }
   ],
   "source": [
    "top_hashtags_by_followers = top_hashtags(top_by_followers)\n",
    "top_hashtags_by_followers.show()"
   ],
   "metadata": {
    "collapsed": false,
    "pycharm": {
     "name": "#%%\n"
    }
   }
  },
  {
   "cell_type": "code",
   "execution_count": 15,
   "outputs": [
    {
     "name": "stdout",
     "output_type": "stream",
     "text": [
      "+---------------+\n",
      "|       Hashtags|\n",
      "+---------------+\n",
      "|       worldcup|\n",
      "|  worldcupfinal|\n",
      "|            fra|\n",
      "|            cro|\n",
      "|ntvworldcup2018|\n",
      "+---------------+\n",
      "\n"
     ]
    }
   ],
   "source": [
    "top_hashtags_by_friends = top_hashtags(top_by_friends)\n",
    "top_hashtags_by_friends.show()"
   ],
   "metadata": {
    "collapsed": false,
    "pycharm": {
     "name": "#%%\n"
    }
   }
  },
  {
   "cell_type": "code",
   "execution_count": 16,
   "outputs": [
    {
     "name": "stdout",
     "output_type": "stream",
     "text": [
      "+--------+\n",
      "|Hashtags|\n",
      "+--------+\n",
      "|worldcup|\n",
      "|     fra|\n",
      "|  frabel|\n",
      "|     cro|\n",
      "|     bel|\n",
      "+--------+\n",
      "\n"
     ]
    }
   ],
   "source": [
    "top_hashtags_by_mentions = top_hashtags(top_by_mention)\n",
    "top_hashtags_by_mentions.show()"
   ],
   "metadata": {
    "collapsed": false,
    "pycharm": {
     "name": "#%%\n"
    }
   }
  },
  {
   "cell_type": "markdown",
   "source": [
    "Для выполнения последней задачи созданы 3 выборки для каждой группы хэштегов в которых, в дальнейшем, будет проведен\n",
    "поиск пользователей"
   ],
   "metadata": {
    "collapsed": false
   }
  },
  {
   "cell_type": "code",
   "execution_count": 17,
   "outputs": [],
   "source": [
    "hashtag_frame = dataFrame.withColumn(\"Hashtags\", lower(col(\"Hashtags\")).alias(\"Hashtags\"))\n",
    "hashtag_frame = hashtag_frame.withColumn(\"Hashtags\", split(col(\"Hashtags\"), \",\").alias(\"Hashtags\"))\n",
    "hashtag_frame = hashtag_frame.withColumn(\"Hashtags\", explode(\"Hashtags\").alias(\"key\", \"value\"))\n",
    "hashtag_frame_by_followers = hashtag_frame.join(top_hashtags_by_followers, \"Hashtags\", \"inner\")\\\n",
    "    .dropna().select(\"Name\").distinct()\n",
    "hashtag_frame_by_friends = hashtag_frame.join(top_hashtags_by_friends, \"Hashtags\", \"inner\")\\\n",
    "    .dropna().select(\"Name\").distinct()\n",
    "hashtag_frame_by_mention = hashtag_frame.join(top_hashtags_by_mentions, \"Hashtags\", \"inner\")\\\n",
    "    .dropna().select(\"Name\").distinct()"
   ],
   "metadata": {
    "collapsed": false,
    "pycharm": {
     "name": "#%%\n"
    }
   }
  },
  {
   "cell_type": "code",
   "execution_count": 18,
   "outputs": [],
   "source": [
    "not_unique_by_followers = top_by_followers\\\n",
    "    .join(hashtag_frame_by_followers, \"Name\", \"inner\")\\\n",
    "    .join(hashtag_frame_by_friends, \"Name\", \"inner\")\\\n",
    "    .join(hashtag_frame_by_mention, \"Name\", \"inner\").distinct()\n",
    "unique_by_followers = top_by_followers.join(not_unique_by_followers, \"Name\", \"leftouter\")\n",
    "not_unique_by_friends = top_by_friends\\\n",
    "    .join(hashtag_frame_by_followers, \"Name\", \"inner\")\\\n",
    "    .join(hashtag_frame_by_friends, \"Name\", \"inner\")\\\n",
    "    .join(hashtag_frame_by_mention, \"Name\", \"inner\").distinct()\n",
    "unique_by_friends = top_by_friends.join(not_unique_by_friends, \"Name\", \"leftouter\")\n",
    "not_unique_by_mention = top_by_mention\\\n",
    "    .join(hashtag_frame_by_followers, \"Name\", \"inner\")\\\n",
    "    .join(hashtag_frame_by_friends, \"Name\", \"inner\")\\\n",
    "    .join(hashtag_frame_by_mention, \"Name\", \"inner\").distinct()\n",
    "unique_by_mention = top_by_mention.join(not_unique_by_mention, \"Name\", \"leftouter\")"
   ],
   "metadata": {
    "collapsed": false,
    "pycharm": {
     "name": "#%%\n"
    }
   }
  },
  {
   "cell_type": "code",
   "execution_count": 19,
   "outputs": [
    {
     "name": "stdout",
     "output_type": "stream",
     "text": [
      "+--------------------+\n",
      "|                Name|\n",
      "+--------------------+\n",
      "|      Premier League|\n",
      "|   Manchester United|\n",
      "|The Associated Press|\n",
      "|      Twitter Sports|\n",
      "|                ESPN|\n",
      "|    BBC News (World)|\n",
      "|          Chelsea FC|\n",
      "|        FC Barcelona|\n",
      "|                NDTV|\n",
      "|   China Xinhua News|\n",
      "|      Times of India|\n",
      "|    Reuters Top News|\n",
      "+--------------------+\n",
      "\n"
     ]
    }
   ],
   "source": [
    "not_unique_by_followers.show()"
   ],
   "metadata": {
    "collapsed": false,
    "pycharm": {
     "name": "#%%\n"
    }
   }
  },
  {
   "cell_type": "code",
   "execution_count": 20,
   "outputs": [
    {
     "name": "stdout",
     "output_type": "stream",
     "text": [
      "+--------------------+\n",
      "|                Name|\n",
      "+--------------------+\n",
      "|         Ben william|\n",
      "|   Raphael M. Ny?ng?|\n",
      "|     Buffy, Chun-Lit|\n",
      "|    Michael G Harbut|\n",
      "|        Adamu hassan|\n",
      "|Real Marsha Wrigh...|\n",
      "|         Köksal Ak?n|\n",
      "|Zlatan Khubaibimovi?|\n",
      "|              Futbol|\n",
      "|Consumers Federat...|\n",
      "|          Tom Hall ?|\n",
      "|                 sam|\n",
      "|      Tunde Eleniyan|\n",
      "|   ?? #PowerWoman ??|\n",
      "+--------------------+\n",
      "\n"
     ]
    }
   ],
   "source": [
    "not_unique_by_friends.show()"
   ],
   "metadata": {
    "collapsed": false,
    "pycharm": {
     "name": "#%%\n"
    }
   }
  },
  {
   "cell_type": "code",
   "execution_count": 21,
   "outputs": [
    {
     "name": "stdout",
     "output_type": "stream",
     "text": [
      "+------------------+\n",
      "|              Name|\n",
      "+------------------+\n",
      "|  Match of the Day|\n",
      "|    Premier League|\n",
      "| Manchester United|\n",
      "|        Paul Pogba|\n",
      "|    Troll Football|\n",
      "|       French Team|\n",
      "|        Harry Kane|\n",
      "|       Luka Modri?|\n",
      "|           OptaJoe|\n",
      "|         HNS | CFF|\n",
      "|               EXO|\n",
      "|             SPORF|\n",
      "|  FIFA World Cup ?|\n",
      "|Belgian Red Devils|\n",
      "|           England|\n",
      "|      B/R Football|\n",
      "+------------------+\n",
      "\n"
     ]
    }
   ],
   "source": [
    "not_unique_by_mention.show()"
   ],
   "metadata": {
    "collapsed": false,
    "pycharm": {
     "name": "#%%\n"
    }
   }
  },
  {
   "cell_type": "code",
   "execution_count": 22,
   "outputs": [
    {
     "name": "stdout",
     "output_type": "stream",
     "text": [
      "+--------------------+\n",
      "|                Name|\n",
      "+--------------------+\n",
      "|            FIFA.com|\n",
      "|The Wall Street J...|\n",
      "|      Premier League|\n",
      "|   Manchester United|\n",
      "|The Associated Press|\n",
      "|      Twitter Sports|\n",
      "|                ESPN|\n",
      "|      Vogue Magazine|\n",
      "|    BBC News (World)|\n",
      "|          Chelsea FC|\n",
      "|                9GAG|\n",
      "|        FC Barcelona|\n",
      "|                NDTV|\n",
      "|            Fox News|\n",
      "|                 CNN|\n",
      "|                Xbox|\n",
      "|   China Xinhua News|\n",
      "|       The Economist|\n",
      "|      Times of India|\n",
      "|    Reuters Top News|\n",
      "+--------------------+\n",
      "\n"
     ]
    }
   ],
   "source": [
    "unique_by_followers.show()"
   ],
   "metadata": {
    "collapsed": false,
    "pycharm": {
     "name": "#%%\n"
    }
   }
  },
  {
   "cell_type": "code",
   "execution_count": 23,
   "outputs": [
    {
     "name": "stdout",
     "output_type": "stream",
     "text": [
      "+--------------------+\n",
      "|                Name|\n",
      "+--------------------+\n",
      "|                E.O.|\n",
      "|                J.D.|\n",
      "|         Ben william|\n",
      "|   Raphael M. Ny?ng?|\n",
      "|Footbal, News, Sp...|\n",
      "|     Buffy, Chun-Lit|\n",
      "|     ? Yübbî? Umoh ?|\n",
      "|    Michael G Harbut|\n",
      "|        Adamu hassan|\n",
      "|              SKYLAR|\n",
      "|Real Marsha Wrigh...|\n",
      "|         Köksal Ak?n|\n",
      "|Zlatan Khubaibimovi?|\n",
      "|              Futbol|\n",
      "|        Liverpool FC|\n",
      "|Consumers Federat...|\n",
      "|          Tom Hall ?|\n",
      "|                 sam|\n",
      "|      Tunde Eleniyan|\n",
      "|   ?? #PowerWoman ??|\n",
      "+--------------------+\n",
      "\n"
     ]
    }
   ],
   "source": [
    "unique_by_friends.show()"
   ],
   "metadata": {
    "collapsed": false,
    "pycharm": {
     "name": "#%%\n"
    }
   }
  },
  {
   "cell_type": "code",
   "execution_count": 24,
   "outputs": [
    {
     "name": "stdout",
     "output_type": "stream",
     "text": [
      "+------------------+\n",
      "|              Name|\n",
      "+------------------+\n",
      "|  Match of the Day|\n",
      "|    Premier League|\n",
      "| Manchester United|\n",
      "|        Paul Pogba|\n",
      "|   Bleacher Report|\n",
      "|    Troll Football|\n",
      "|       French Team|\n",
      "|        Harry Kane|\n",
      "|       Luka Modri?|\n",
      "|              9GAG|\n",
      "|           OptaJoe|\n",
      "|         HNS | CFF|\n",
      "|               EXO|\n",
      "|             SPORF|\n",
      "|  FIFA World Cup ?|\n",
      "|Belgian Red Devils|\n",
      "|           England|\n",
      "|    FIFA World Cup|\n",
      "|      B/R Football|\n",
      "|    Khaled Beydoun|\n",
      "+------------------+\n",
      "\n"
     ]
    }
   ],
   "source": [
    "unique_by_mention.show()"
   ],
   "metadata": {
    "collapsed": false,
    "pycharm": {
     "name": "#%%\n"
    }
   }
  },
  {
   "cell_type": "code",
   "execution_count": 25,
   "outputs": [
    {
     "name": "stdout",
     "output_type": "stream",
     "text": [
      "127.19369697570801\n"
     ]
    }
   ],
   "source": [
    "# spark.stop()\n",
    "print(time() - time_start)"
   ],
   "metadata": {
    "collapsed": false,
    "pycharm": {
     "name": "#%%\n"
    }
   }
  }
 ],
 "metadata": {
  "kernelspec": {
   "display_name": "Python 3 (ipykernel)",
   "language": "python",
   "name": "python3"
  },
  "language_info": {
   "codemirror_mode": {
    "name": "ipython",
    "version": 3
   },
   "file_extension": ".py",
   "mimetype": "text/x-python",
   "name": "python",
   "nbconvert_exporter": "python",
   "pygments_lexer": "ipython3",
   "version": "3.9.7"
  }
 },
 "nbformat": 4,
 "nbformat_minor": 1
}