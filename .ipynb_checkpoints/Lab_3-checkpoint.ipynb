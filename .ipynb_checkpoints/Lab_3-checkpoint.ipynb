{
 "cells": [
  {
   "cell_type": "markdown",
   "metadata": {
    "collapsed": true,
    "pycharm": {
     "name": "#%% md\n"
    }
   },
   "source": [
    "### **Лабораторная работа №3**\n",
    "#### *Выполнил: студент группы 8ПМ11, Кайдаров Алибек*\n",
    "\n",
    "Вариант 4.\n",
    "\n",
    "Получить двадцать пользователей с наибольшим количеством фолловеров, двадцать пользователей с\n",
    "наибольшим количеством друзей, двадцать наиболее часто упоминаемых пользователей. Определите топ-5\n",
    "уникальных хештегов для каждой из выделенных групп. Выделить пользователей, которые попадают в\n",
    "несколько из этих списков, а также пользователей, которые попали только в один список."
   ]
  },
  {
   "cell_type": "code",
   "execution_count": 4,
   "metadata": {
    "pycharm": {
     "name": "#%%\n"
    }
   },
   "outputs": [],
   "source": [
    "from pyspark.sql import SparkSession\n",
    "from datetime import datetime\n",
    "from pyspark.sql.functions import when, avg"
   ]
  },
  {
   "cell_type": "code",
   "execution_count": 5,
   "metadata": {
    "pycharm": {
     "name": "#%%\n"
    }
   },
   "outputs": [
    {
     "data": {
      "text/html": [
       "\n",
       "            <div>\n",
       "                <p><b>SparkSession - in-memory</b></p>\n",
       "                \n",
       "        <div>\n",
       "            <p><b>SparkContext</b></p>\n",
       "\n",
       "            <p><a href=\"http://DESKTOP-FFTVG2S:4040\">Spark UI</a></p>\n",
       "\n",
       "            <dl>\n",
       "              <dt>Version</dt>\n",
       "                <dd><code>v3.1.2</code></dd>\n",
       "              <dt>Master</dt>\n",
       "                <dd><code>local[4]</code></dd>\n",
       "              <dt>AppName</dt>\n",
       "                <dd><code>Lab_3</code></dd>\n",
       "            </dl>\n",
       "        </div>\n",
       "        \n",
       "            </div>\n",
       "        "
      ],
      "text/plain": [
       "<pyspark.sql.session.SparkSession at 0x1b76b25a4c0>"
      ]
     },
     "execution_count": 5,
     "metadata": {},
     "output_type": "execute_result"
    }
   ],
   "source": [
    "spark = SparkSession.builder.appName(\"Lab_3\").master(\"local[4]\").getOrCreate()\n",
    "spark.conf.set(\"spark.sql.repl.eagerEval.enabled\", True)\n",
    "spark"
   ]
  },
  {
   "cell_type": "code",
   "execution_count": 6,
   "metadata": {
    "pycharm": {
     "name": "#%%\n"
    }
   },
   "outputs": [],
   "source": [
    "dataFrame = spark.read.csv(\"D:\\Spring_2022\\DSandCC\\\\FIFA.csv\", inferSchema=True, header=True)"
   ]
  },
  {
   "cell_type": "code",
   "execution_count": 7,
   "metadata": {
    "pycharm": {
     "name": "#%%\n"
    }
   },
   "outputs": [
    {
     "data": {
      "text/html": [
       "<table border='1'>\n",
       "<tr><th>ID</th><th>lang</th><th>Date</th><th>Source</th><th>len</th><th>Orig_Tweet</th><th>Tweet</th><th>Likes</th><th>RTs</th><th>Hashtags</th><th>UserMentionNames</th><th>UserMentionID</th><th>Name</th><th>Place</th><th>Followers</th><th>Friends</th></tr>\n",
       "<tr><td>1013597060640145408</td><td>en</td><td>2018-07-02 01:35:45</td><td>Twitter for Android</td><td>140</td><td>RT @Squawka: Only...</td><td>null</td><td>null</td><td>null</td><td>null</td><td>null</td><td>null</td><td>null</td><td>null</td><td>null</td><td>null</td></tr>\n",
       "<tr><td>1/7/2006: #POR&#x27;s ...</td><td>null</td><td>null</td><td>null</td><td>null</td><td>null</td><td>null</td><td>null</td><td>null</td><td>null</td><td>null</td><td>null</td><td>null</td><td>null</td><td>null</td><td>null</td></tr>\n",
       "<tr><td>1/7/20…&quot;</td><td>Only two goalkeep...</td><td>0</td><td>477</td><td>WorldCup,POR,ENG</td><td>Squawka Football</td><td>Squawka</td><td>Cayleb</td><td>Accra</td><td>861</td><td>828</td><td>null</td><td>null</td><td>null</td><td>null</td><td>null</td></tr>\n",
       "<tr><td>1013597056219295744</td><td>en</td><td>2018-07-02 01:35:44</td><td>Twitter for Android</td><td>139</td><td>RT @FCBarcelona: ...</td><td>scores the winnin...</td><td>0</td><td>1031</td><td>WorldCup</td><td>FC Barcelona,Ivan...</td><td>FCBarcelona,ivanr...</td><td>Febri Aditya</td><td>Bogor</td><td>667</td><td>686</td></tr>\n",
       "<tr><td>1013597047482544130</td><td>en</td><td>2018-07-02 01:35:42</td><td>Twitter for Android</td><td>107</td><td>RT @javierfernand...</td><td>Tonight we have b...</td><td>0</td><td>488</td><td>worldcup</td><td>Javier Fernandez,...</td><td>javierfernandez,E...</td><td>??</td><td>null</td><td>65</td><td>67</td></tr>\n",
       "<tr><td>1013597044198391808</td><td>en</td><td>2018-07-02 01:35:41</td><td>Twitter Web Client</td><td>142</td><td>We get stronger</td><td>null</td><td>null</td><td>null</td><td>null</td><td>null</td><td>null</td><td>null</td><td>null</td><td>null</td><td>null</td></tr>\n",
       "<tr><td>Turn the music up...</td><td>null</td><td>null</td><td>null</td><td>null</td><td>null</td><td>null</td><td>null</td><td>null</td><td>null</td><td>null</td><td>null</td><td>null</td><td>null</td><td>null</td><td>null</td></tr>\n",
       "<tr><td>We got that power...</td><td>null</td><td>null</td><td>null</td><td>null</td><td>null</td><td>null</td><td>null</td><td>null</td><td>null</td><td>null</td><td>null</td><td>null</td><td>null</td><td>null</td><td>null</td></tr>\n",
       "<tr><td>#PowerByEXO #Worl...</td><td>null</td><td>null</td><td>null</td><td>null</td><td>null</td><td>null</td><td>null</td><td>null</td><td>null</td><td>null</td><td>null</td><td>null</td><td>null</td><td>null</td><td>null</td></tr>\n",
       "<tr><td>@weareoneEXO @FIF...</td><td>We get stronger T...</td><td>0</td><td>0</td><td>PowerByEXO,WorldC...</td><td>EXO,FIFA World Cup ?</td><td>weareoneEXO,FIFAW...</td><td>Frida Carrillo</td><td>Zapopan, Jalisco</td><td>17</td><td>89</td><td>null</td><td>null</td><td>null</td><td>null</td><td>null</td></tr>\n",
       "<tr><td>1013597039999926272</td><td>en</td><td>2018-07-02 01:35:40</td><td>Twitter for Android</td><td>140</td><td>RT @Squawka: Only...</td><td>null</td><td>null</td><td>null</td><td>null</td><td>null</td><td>null</td><td>null</td><td>null</td><td>null</td><td>null</td></tr>\n",
       "<tr><td>1/7/2006: #POR&#x27;s ...</td><td>null</td><td>null</td><td>null</td><td>null</td><td>null</td><td>null</td><td>null</td><td>null</td><td>null</td><td>null</td><td>null</td><td>null</td><td>null</td><td>null</td><td>null</td></tr>\n",
       "<tr><td>1/7/20…&quot;</td><td>Only two goalkeep...</td><td>0</td><td>477</td><td>WorldCup,POR,ENG</td><td>Squawka Football</td><td>Squawka</td><td>tar</td><td>null</td><td>137</td><td>216</td><td>null</td><td>null</td><td>null</td><td>null</td><td>null</td></tr>\n",
       "<tr><td>1013597039995867143</td><td>en</td><td>2018-07-02 01:35:40</td><td>Twitter for Android</td><td>140</td><td>&quot;RT @FIFAWorldCup...</td><td>null</td><td>null</td><td>null</td><td>null</td><td>null</td><td>null</td><td>null</td><td>null</td><td>null</td><td>null</td></tr>\n",
       "<tr><td>We caught up with...</td><td>null</td><td>null</td><td>null</td><td>null</td><td>null</td><td>null</td><td>null</td><td>null</td><td>null</td><td>null</td><td>null</td><td>null</td><td>null</td><td>null</td><td>null</td></tr>\n",
       "<tr><td>#World…&quot;</td><td>We re looking str...</td><td>0</td><td>153</td><td>BRAMEX</td><td>FIFA World Cup ?,...</td><td>FIFAWorldCup,CBF_...</td><td>Ligefut</td><td>null</td><td>29</td><td>283</td><td>null</td><td>null</td><td>null</td><td>null</td><td>null</td></tr>\n",
       "<tr><td>1013597039978995712</td><td>en</td><td>2018-07-02 01:35:40</td><td>Twitter for iPhone</td><td>140</td><td>RT @ShShShShShSh5...</td><td>null</td><td>null</td><td>null</td><td>null</td><td>null</td><td>null</td><td>null</td><td>null</td><td>null</td><td>null</td></tr>\n",
       "<tr><td>Russia eliminates...</td><td>am happy for winn...</td><td>0</td><td>4</td><td>Russia</td><td>V?Deplorable?45  ??</td><td>ShShShShShSh555</td><td>?a?????</td><td>Mount Olympus </td><td>208</td><td>338</td><td>null</td><td>null</td><td>null</td><td>null</td><td>null</td></tr>\n",
       "<tr><td>1013597038951436288</td><td>en</td><td>2018-07-02 01:35:40</td><td>Twitter Web Client</td><td>138</td><td>RT @FridaCarrillo...</td><td>null</td><td>null</td><td>null</td><td>null</td><td>null</td><td>null</td><td>null</td><td>null</td><td>null</td><td>null</td></tr>\n",
       "<tr><td>When we feel the ...</td><td>null</td><td>null</td><td>null</td><td>null</td><td>null</td><td>null</td><td>null</td><td>null</td><td>null</td><td>null</td><td>null</td><td>null</td><td>null</td><td>null</td><td>null</td></tr>\n",
       "</table>\n",
       "only showing top 20 rows\n"
      ],
      "text/plain": [
       "+--------------------+--------------------+-------------------+-------------------+--------------------+--------------------+--------------------+--------------+----------------+--------+--------------------+--------------------+------------+-----+---------+-------+\n",
       "|                  ID|                lang|               Date|             Source|                 len|          Orig_Tweet|               Tweet|         Likes|             RTs|Hashtags|    UserMentionNames|       UserMentionID|        Name|Place|Followers|Friends|\n",
       "+--------------------+--------------------+-------------------+-------------------+--------------------+--------------------+--------------------+--------------+----------------+--------+--------------------+--------------------+------------+-----+---------+-------+\n",
       "| 1013597060640145408|                  en|2018-07-02 01:35:45|Twitter for Android|                 140|RT @Squawka: Only...|                null|          null|            null|    null|                null|                null|        null| null|     null|   null|\n",
       "|1/7/2006: #POR's ...|                null|               null|               null|                null|                null|                null|          null|            null|    null|                null|                null|        null| null|     null|   null|\n",
       "|            1/7/20…\"|Only two goalkeep...|                  0|                477|    WorldCup,POR,ENG|    Squawka Football|             Squawka|        Cayleb|           Accra|     861|                 828|                null|        null| null|     null|   null|\n",
       "| 1013597056219295744|                  en|2018-07-02 01:35:44|Twitter for Android|                 139|RT @FCBarcelona: ...|scores the winnin...|             0|            1031|WorldCup|FC Barcelona,Ivan...|FCBarcelona,ivanr...|Febri Aditya|Bogor|      667|    686|\n",
       "| 1013597047482544130|                  en|2018-07-02 01:35:42|Twitter for Android|                 107|RT @javierfernand...|Tonight we have b...|             0|             488|worldcup|Javier Fernandez,...|javierfernandez,E...|          ??| null|       65|     67|\n",
       "| 1013597044198391808|                  en|2018-07-02 01:35:41| Twitter Web Client|                 142|     We get stronger|                null|          null|            null|    null|                null|                null|        null| null|     null|   null|\n",
       "|Turn the music up...|                null|               null|               null|                null|                null|                null|          null|            null|    null|                null|                null|        null| null|     null|   null|\n",
       "|We got that power...|                null|               null|               null|                null|                null|                null|          null|            null|    null|                null|                null|        null| null|     null|   null|\n",
       "|#PowerByEXO #Worl...|                null|               null|               null|                null|                null|                null|          null|            null|    null|                null|                null|        null| null|     null|   null|\n",
       "|@weareoneEXO @FIF...|We get stronger T...|                  0|                  0|PowerByEXO,WorldC...|EXO,FIFA World Cup ?|weareoneEXO,FIFAW...|Frida Carrillo|Zapopan, Jalisco|      17|                  89|                null|        null| null|     null|   null|\n",
       "| 1013597039999926272|                  en|2018-07-02 01:35:40|Twitter for Android|                 140|RT @Squawka: Only...|                null|          null|            null|    null|                null|                null|        null| null|     null|   null|\n",
       "|1/7/2006: #POR's ...|                null|               null|               null|                null|                null|                null|          null|            null|    null|                null|                null|        null| null|     null|   null|\n",
       "|            1/7/20…\"|Only two goalkeep...|                  0|                477|    WorldCup,POR,ENG|    Squawka Football|             Squawka|           tar|            null|     137|                 216|                null|        null| null|     null|   null|\n",
       "| 1013597039995867143|                  en|2018-07-02 01:35:40|Twitter for Android|                 140|\"RT @FIFAWorldCup...|                null|          null|            null|    null|                null|                null|        null| null|     null|   null|\n",
       "|We caught up with...|                null|               null|               null|                null|                null|                null|          null|            null|    null|                null|                null|        null| null|     null|   null|\n",
       "|            #World…\"|We re looking str...|                  0|                153|              BRAMEX|FIFA World Cup ?,...|FIFAWorldCup,CBF_...|       Ligefut|            null|      29|                 283|                null|        null| null|     null|   null|\n",
       "| 1013597039978995712|                  en|2018-07-02 01:35:40| Twitter for iPhone|                 140|RT @ShShShShShSh5...|                null|          null|            null|    null|                null|                null|        null| null|     null|   null|\n",
       "|Russia eliminates...|am happy for winn...|                  0|                  4|              Russia| V?Deplorable?45  ??|     ShShShShShSh555|       ?a?????|  Mount Olympus |     208|                 338|                null|        null| null|     null|   null|\n",
       "| 1013597038951436288|                  en|2018-07-02 01:35:40| Twitter Web Client|                 138|RT @FridaCarrillo...|                null|          null|            null|    null|                null|                null|        null| null|     null|   null|\n",
       "|When we feel the ...|                null|               null|               null|                null|                null|                null|          null|            null|    null|                null|                null|        null| null|     null|   null|\n",
       "+--------------------+--------------------+-------------------+-------------------+--------------------+--------------------+--------------------+--------------+----------------+--------+--------------------+--------------------+------------+-----+---------+-------+\n",
       "only showing top 20 rows"
      ]
     },
     "execution_count": 7,
     "metadata": {},
     "output_type": "execute_result"
    }
   ],
   "source": [
    "dataFrame"
   ]
  },
  {
   "cell_type": "code",
   "execution_count": null,
   "metadata": {
    "pycharm": {
     "name": "#%%\n"
    }
   },
   "outputs": [],
   "source": []
  }
 ],
 "metadata": {
  "kernelspec": {
   "display_name": "Python 3 (ipykernel)",
   "language": "python",
   "name": "python3"
  },
  "language_info": {
   "codemirror_mode": {
    "name": "ipython",
    "version": 3
   },
   "file_extension": ".py",
   "mimetype": "text/x-python",
   "name": "python",
   "nbconvert_exporter": "python",
   "pygments_lexer": "ipython3",
   "version": "3.9.7"
  }
 },
 "nbformat": 4,
 "nbformat_minor": 1
}
